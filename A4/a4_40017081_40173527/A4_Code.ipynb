{
 "cells": [
  {
   "cell_type": "code",
   "execution_count": 45,
   "id": "fbc6e215",
   "metadata": {},
   "outputs": [],
   "source": [
    "from pyspark.sql import SparkSession\n",
    "from pyspark.sql.functions import *\n",
    "import pandas as pd\n",
    "\n",
    "spark = SparkSession . \\\n",
    "builder . \\\n",
    "appName(\"Assignment4\") . \\\n",
    "master(\"spark://spark-master:7077\") . \\\n",
    "config(\"spark.executor.memory\", \"512m\") . \\\n",
    "getOrCreate()"
   ]
  },
  {
   "cell_type": "code",
   "execution_count": 46,
   "id": "aad419cf",
   "metadata": {},
   "outputs": [],
   "source": [
    "df_movies = spark.read.format('csv')\\\n",
    "    .option('header', 'true')\\\n",
    "    .option('inferSchema', 'true')\\\n",
    "    .load('movies.csv')\n",
    "\n",
    "df_ratings = spark.read.format('csv')\\\n",
    "    .option('header', 'true')\\\n",
    "    .option('inferSchema', 'true')\\\n",
    "    .load('ratings.csv')\n",
    "\n",
    "df_tags = spark.read.format('csv')\\\n",
    "    .option('header', 'true')\\\n",
    "    .option('inferSchema', 'true')\\\n",
    "    .load('tags.csv')"
   ]
  },
  {
   "cell_type": "code",
   "execution_count": 47,
   "id": "e4531d16",
   "metadata": {},
   "outputs": [
    {
     "name": "stdout",
     "output_type": "stream",
     "text": [
      "There are 4361 Drama tagged movies\n"
     ]
    }
   ],
   "source": [
    "\"\"\" Q1: How many movies of genre drama are there?\n",
    "# Since movie may has multiple movie genre tags, for each movie, we only to check if its genres contains Drama \"\"\"\n",
    "\n",
    "drama_movie = df_movies.filter(col(\"genres\").contains(\"Drama\"))\n",
    "num_drama = drama_movie.count()\n",
    "print(\"There are \" + str(num_drama) + \" Drama tagged movies\")"
   ]
  },
  {
   "cell_type": "code",
   "execution_count": 48,
   "id": "f104eed9",
   "metadata": {},
   "outputs": [
    {
     "name": "stderr",
     "output_type": "stream",
     "text": [
      "                                                                                \r"
     ]
    },
    {
     "name": "stdout",
     "output_type": "stream",
     "text": [
      "There are 9724 unique movies are rated\n",
      "+-------+\n",
      "|movieId|\n",
      "+-------+\n",
      "|   1076|\n",
      "|   2939|\n",
      "|   3338|\n",
      "|   3456|\n",
      "|   4194|\n",
      "|   5721|\n",
      "|   6668|\n",
      "|   6849|\n",
      "|   7020|\n",
      "|   7792|\n",
      "|   8765|\n",
      "|  25855|\n",
      "|  26085|\n",
      "|  30892|\n",
      "|  32160|\n",
      "|  32371|\n",
      "|  34482|\n",
      "|  85565|\n",
      "+-------+\n",
      "\n",
      "There are 18 movies not rated\n"
     ]
    }
   ],
   "source": [
    "\"\"\" Q2: How many unique movies are rated,how many are not rated?\n",
    "# A movie may has review from multiple users, therefore, we only extract the distinct movies from all the reviewed movies\n",
    "# Compare the reviewed movies with the total movies, we will get the unrated movies \"\"\"\n",
    "\n",
    "# Q2.1 How many unique movies are rated\n",
    "unique_movie = df_ratings.select(col(\"movieId\")).distinct().sort(\"movieId\")\n",
    "#unique_movie.show()\n",
    "num_unique = unique_movie.count()\n",
    "print(\"There are \" + str(num_unique) + \" unique movies are rated\")\n",
    "\n",
    "# Q2.2 how many movies are not rated?\n",
    "total_movies = df_movies.select(col(\"movieId\")).distinct().sort(\"movieId\")\n",
    "#movies.show()\n",
    "\n",
    "leftMovie = total_movies.join(unique_movie,[\"movieId\"],'leftanti').sort(\"movieId\")\n",
    "leftMovie.show()\n",
    "Not_rate_movie = leftMovie.count()\n",
    "#print(\"There are \" + str(total_movies) + \" movies in total\")\n",
    "print(\"There are \" + str(Not_rate_movie) + \" movies not rated\")"
   ]
  },
  {
   "cell_type": "code",
   "execution_count": 49,
   "id": "cede0c75",
   "metadata": {},
   "outputs": [
    {
     "name": "stderr",
     "output_type": "stream",
     "text": [
      "                                                                                \r"
     ]
    },
    {
     "name": "stdout",
     "output_type": "stream",
     "text": [
      "UserId:414 gave the most ratings which are 2698 ratings in total\n"
     ]
    }
   ],
   "source": [
    "\"\"\" Q3: Who gave the most ratings, how many rates did the person make?\n",
    "# users can write multiple rates, we only have to count the number of the occurrences of the userID, \n",
    "# then we can know how many rates the user gave\n",
    "which is: group the rates by userId and count the number of rates person wrote \"\"\"\n",
    "\n",
    "user_rates = df_ratings.groupBy(\"userId\").count()\n",
    "user_rates.sort(col(\"userId\"))\n",
    "#user_rates.show()\n",
    "\n",
    "Max_rate = user_rates.groupBy().max(\"count\").head()['max(count)'] #get the first item in the list\n",
    "user = user_rates.select(\"userId\").where(col(\"count\") == Max_rate).head()[\"userId\"]\n",
    "print(\"UserId:\" + str(user) + \" gave the most ratings which are \" + str(Max_rate) + \" ratings in total\")\n",
    "\n",
    "#deptDF.show(truncate=False)"
   ]
  },
  {
   "cell_type": "code",
   "execution_count": 50,
   "id": "157a1c59",
   "metadata": {},
   "outputs": [
    {
     "name": "stdout",
     "output_type": "stream",
     "text": [
      "+-------+-----------+-----------+------------------+\n",
      "|movieId|min(rating)|max(rating)|       avg(rating)|\n",
      "+-------+-----------+-----------+------------------+\n",
      "|      1|        0.5|        5.0|3.9209302325581397|\n",
      "|      2|        0.5|        5.0|3.4318181818181817|\n",
      "|      3|        0.5|        5.0|3.2596153846153846|\n",
      "|      4|        1.0|        3.0| 2.357142857142857|\n",
      "|      5|        0.5|        5.0|3.0714285714285716|\n",
      "|      6|        1.0|        5.0| 3.946078431372549|\n",
      "|      7|        1.0|        5.0| 3.185185185185185|\n",
      "|      8|        1.0|        5.0|             2.875|\n",
      "|      9|        1.5|        5.0|             3.125|\n",
      "|     10|        0.5|        5.0| 3.496212121212121|\n",
      "|     11|        1.0|        5.0|3.6714285714285713|\n",
      "|     12|        1.0|        5.0|2.4210526315789473|\n",
      "|     13|        2.0|        4.0|             3.125|\n",
      "|     14|        3.0|        5.0|3.8333333333333335|\n",
      "|     15|        1.0|        5.0|               3.0|\n",
      "|     16|        1.0|        5.0| 3.926829268292683|\n",
      "|     17|        0.5|        5.0|3.7761194029850746|\n",
      "|     18|        2.0|        5.0|               3.7|\n",
      "|     19|        1.0|        5.0| 2.727272727272727|\n",
      "|     20|        1.0|        4.0|               2.5|\n",
      "+-------+-----------+-----------+------------------+\n",
      "only showing top 20 rows\n",
      "\n"
     ]
    },
    {
     "name": "stderr",
     "output_type": "stream",
     "text": [
      "                                                                                \r"
     ]
    }
   ],
   "source": [
    "\"\"\" Q4: Compute min, average, max rating per movie\n",
    "# groupBy the movieId and calculate the min, average, max rating \"\"\"\n",
    "\n",
    "movie_rate_min = df_ratings.groupBy(\"movieId\").min(\"rating\")\n",
    "movie_rate_max = df_ratings.groupBy(\"movieId\").max(\"rating\")\n",
    "movie_rate_avg = df_ratings.groupBy(\"movieId\").mean(\"rating\")\n",
    "\n",
    "movie_rate = movie_rate_min.join(movie_rate_max,[\"movieId\"]).join(movie_rate_avg,[\"movieId\"]).sort(col(\"movieId\"))\n",
    "movie_rate.show()"
   ]
  },
  {
   "cell_type": "code",
   "execution_count": 51,
   "id": "e552f243",
   "metadata": {},
   "outputs": [
    {
     "name": "stderr",
     "output_type": "stream",
     "text": [
      "                                                                                \r"
     ]
    }
   ],
   "source": [
    "movie_rate.toPandas().to_csv('MovieRates.csv')"
   ]
  },
  {
   "cell_type": "code",
   "execution_count": 52,
   "id": "ffd1aec5",
   "metadata": {},
   "outputs": [
    {
     "name": "stdout",
     "output_type": "stream",
     "text": [
      "+------+-------+------+-----------------+\n",
      "|userId|movieId|rating|ratings_timestamp|\n",
      "+------+-------+------+-----------------+\n",
      "|     1|      1|   4.0|        964982703|\n",
      "|     1|      3|   4.0|        964981247|\n",
      "|     1|      6|   4.0|        964982224|\n",
      "|     1|     47|   5.0|        964983815|\n",
      "|     1|     50|   5.0|        964982931|\n",
      "|     1|     70|   3.0|        964982400|\n",
      "|     1|    101|   5.0|        964980868|\n",
      "|     1|    110|   4.0|        964982176|\n",
      "|     1|    151|   5.0|        964984041|\n",
      "|     1|    157|   5.0|        964984100|\n",
      "|     1|    163|   5.0|        964983650|\n",
      "|     1|    216|   5.0|        964981208|\n",
      "|     1|    223|   3.0|        964980985|\n",
      "|     1|    231|   5.0|        964981179|\n",
      "|     1|    235|   4.0|        964980908|\n",
      "|     1|    260|   5.0|        964981680|\n",
      "|     1|    296|   3.0|        964982967|\n",
      "|     1|    316|   3.0|        964982310|\n",
      "|     1|    333|   5.0|        964981179|\n",
      "|     1|    349|   4.0|        964982563|\n",
      "+------+-------+------+-----------------+\n",
      "only showing top 20 rows\n",
      "\n",
      "+------+-------+------+-----------------+-----------------+--------------+\n",
      "|userId|movieId|rating|ratings_timestamp|              tag|tags_timestamp|\n",
      "+------+-------+------+-----------------+-----------------+--------------+\n",
      "|     2|  60756|   5.0|       1445714980|  Highly quotable|    1445714996|\n",
      "|     2|  89774|   5.0|       1445715189|     Boxing story|    1445715207|\n",
      "|     2|  60756|   5.0|       1445714980|            funny|    1445714994|\n",
      "|     2| 106782|   5.0|       1445714966|  Martin Scorsese|    1445715056|\n",
      "|     2| 106782|   5.0|       1445714966|Leonardo DiCaprio|    1445715051|\n",
      "|     2|  89774|   5.0|       1445715189|        Tom Hardy|    1445715205|\n",
      "|     2| 106782|   5.0|       1445714966|            drugs|    1445715054|\n",
      "|     2|  89774|   5.0|       1445715189|              MMA|    1445715200|\n",
      "|     2|  60756|   5.0|       1445714980|     will ferrell|    1445714992|\n",
      "|     7|  48516|   1.0|       1169687318|     way too long|    1169687325|\n",
      "|    18|    431|   4.0|       1462138790|            mafia|    1462138755|\n",
      "|    18|   5995|   4.5|       1455735416|       true story|    1455735479|\n",
      "|    18|    431|   4.0|       1462138790|         gangster|    1462138749|\n",
      "|    18|   5995|   4.5|       1455735416|        holocaust|    1455735472|\n",
      "|    18|  52604|   4.5|       1457650649|  courtroom drama|    1457650711|\n",
      "|    18|    431|   4.0|       1462138790|        Al Pacino|    1462138765|\n",
      "|    18|   1221|   5.0|       1460242083|            Mafia|    1461699303|\n",
      "|    18|  44665|   4.5|       1455049870|     twist ending|    1456948283|\n",
      "|    18|  52604|   4.5|       1457650649|  Anthony Hopkins|    1457650696|\n",
      "|    18|   1221|   5.0|       1460242083|        Al Pacino|    1461699306|\n",
      "+------+-------+------+-----------------+-----------------+--------------+\n",
      "only showing top 20 rows\n",
      "\n"
     ]
    }
   ],
   "source": [
    "\"\"\"\n",
    "# To distinguish the timestamp in tags.csv and ratings.cav, we rename the timestamp column in the file \"\"\"\n",
    "df_tags = df_tags.withColumnRenamed(\"timestamp\",\"tags_timestamp\").sort(\"userId\")\n",
    "df_ratings = df_ratings.withColumnRenamed(\"timestamp\",\"ratings_timestamp\").sort(\"userId\")\n",
    "#df_tags.show()\n",
    "\n",
    "\"\"\" Q5: Output data-set containing users that have rated a movie but not tagged it\n",
    "# for rated but non-tag movies, join the tags and rating files together and \n",
    "# return records only in the rating.csv \"\"\"\n",
    "rateNotTag = df_ratings.join(df_tags,[\"userId\",\"movieId\"],'leftanti').sort(\"userId\")\n",
    "rateNotTag.show()\n",
    "\n",
    "\"\"\" Q6: Output data-set containing users that have rated AND tagged a movie\n",
    "# for rated And tagged movies, join the tags and rating files together and \n",
    "# return records not only in rating.csv but also in tags.csv \"\"\"\n",
    "rateAndTag = df_ratings.join(df_tags,[\"userId\",\"movieId\"],'inner').sort(\"userId\")\n",
    "rateAndTag.show()"
   ]
  },
  {
   "cell_type": "code",
   "execution_count": 53,
   "id": "496e7b53",
   "metadata": {},
   "outputs": [],
   "source": [
    "rateNotTag.toPandas().to_csv('rateNotTag.csv')\n",
    "rateAndTag.toPandas().to_csv('rateAndTag.csv')"
   ]
  },
  {
   "cell_type": "code",
   "execution_count": 54,
   "id": "10712f3c",
   "metadata": {},
   "outputs": [
    {
     "name": "stdout",
     "output_type": "stream",
     "text": [
      "+---------+-----+\n",
      "|movieYear|count|\n",
      "+---------+-----+\n",
      "|         |   13|\n",
      "|     1902|    1|\n",
      "|     1903|    1|\n",
      "|     1908|    1|\n",
      "|     1915|    1|\n",
      "|     1916|    4|\n",
      "|     1917|    1|\n",
      "|     1919|    1|\n",
      "|     1920|    2|\n",
      "|     1921|    1|\n",
      "|     1922|    1|\n",
      "|     1923|    4|\n",
      "|     1924|    5|\n",
      "|     1925|    4|\n",
      "|     1926|    5|\n",
      "|     1927|    7|\n",
      "|     1928|    4|\n",
      "|     1929|    4|\n",
      "|     1930|    5|\n",
      "|     1931|   14|\n",
      "+---------+-----+\n",
      "only showing top 20 rows\n",
      "\n"
     ]
    }
   ],
   "source": [
    "\"\"\" Q7: Output data-set showing the number of movies per genre, per year\n",
    "# Q7.1: data-set showing the number of movies per year\n",
    "# regression format: text within the last parentheses has to be numbers, may be with special characters, \n",
    "# parentheses may also followed by some trailing spaces, or other special characters and then it has to be the end of the line \"\"\"\n",
    "\n",
    "df = df_movies.withColumn(\"movieYear\", regexp_extract(col(\"title\"),  r\"\\((\\d[^()]+)\\)\\s*$\", 1)).drop('genres')\n",
    "#df.show()\n",
    "#final.toPandas().to_csv('FinalWithYear.csv')\n",
    "\n",
    "moviePerYear = df.groupBy(\"movieYear\").count()\n",
    "moviePerYear.sort(col(\"movieYear\")).show()\n",
    "moviePerYear.toPandas().to_csv('MovieYear.csv')"
   ]
  },
  {
   "cell_type": "code",
   "execution_count": 55,
   "id": "359b9cc5",
   "metadata": {},
   "outputs": [
    {
     "name": "stdout",
     "output_type": "stream",
     "text": [
      "+------------------+-----+\n",
      "|       MovieGenres|count|\n",
      "+------------------+-----+\n",
      "|(no genres listed)|   34|\n",
      "|            Action| 1828|\n",
      "|         Adventure| 1263|\n",
      "|         Animation|  611|\n",
      "|          Children|  664|\n",
      "|            Comedy| 3756|\n",
      "|             Crime| 1199|\n",
      "|       Documentary|  440|\n",
      "|             Drama| 4361|\n",
      "|           Fantasy|  779|\n",
      "|         Film-Noir|   87|\n",
      "|            Horror|  978|\n",
      "|              IMAX|  158|\n",
      "|           Musical|  334|\n",
      "|           Mystery|  573|\n",
      "|           Romance| 1596|\n",
      "|            Sci-Fi|  980|\n",
      "|          Thriller| 1894|\n",
      "|               War|  382|\n",
      "|           Western|  167|\n",
      "+------------------+-----+\n",
      "\n"
     ]
    }
   ],
   "source": [
    "\"\"\" Q7.2: data-set showing the number of movies per genre\n",
    "# The movie may have multiple genres, with multiGenre tags, each genre is separated by a special character | \n",
    "# turn the multiGenre tags into arrays for easy future splitting\n",
    "# Split the movie genre in multiGenre tags into separate row\n",
    "# GroupBy the movie genres and count the number of each movie genre \"\"\"\n",
    "\n",
    "movies = df_movies.withColumn(\"MovieGenres\",split(col(\"genres\"),\"\\|\"))\n",
    "movie_genres = movies.select(movies.movieId, explode(movies.MovieGenres).alias('MovieGenres'))\n",
    "#df2.show()\n",
    "moviePerGenre = movie_genres.groupBy(\"MovieGenres\").count()\n",
    "moviePerGenre.sort(col(\"MovieGenres\")).show()"
   ]
  },
  {
   "cell_type": "code",
   "execution_count": null,
   "id": "34140622",
   "metadata": {},
   "outputs": [],
   "source": []
  }
 ],
 "metadata": {
  "kernelspec": {
   "display_name": "Python 3 (ipykernel)",
   "language": "python",
   "name": "python3"
  },
  "language_info": {
   "codemirror_mode": {
    "name": "ipython",
    "version": 3
   },
   "file_extension": ".py",
   "mimetype": "text/x-python",
   "name": "python",
   "nbconvert_exporter": "python",
   "pygments_lexer": "ipython3",
   "version": "3.9.2"
  }
 },
 "nbformat": 4,
 "nbformat_minor": 5
}
